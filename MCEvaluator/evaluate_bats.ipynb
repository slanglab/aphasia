{
 "cells": [
  {
   "cell_type": "code",
   "execution_count": 30,
   "id": "bb09f792",
   "metadata": {},
   "outputs": [],
   "source": [
    "from openai import OpenAI\n",
    "import os, json\n",
    "import numpy as np\n",
    "from tqdm import tqdm\n",
    "os.environ[\"OPENAI_API_KEY\"] = 'api-key'\n",
    "client = OpenAI()\n",
    "\n",
    "def get_response(prompt):\n",
    "    response = client.chat.completions.create(\n",
    "      model=\"gpt-4o\",\n",
    "      messages=[\n",
    "        {\n",
    "          \"role\": \"user\",\n",
    "          \"content\": [\n",
    "            {\n",
    "              \"type\": \"text\",\n",
    "              \"text\": prompt\n",
    "            }\n",
    "          ]\n",
    "        }\n",
    "      ],\n",
    "      temperature=0.0,\n",
    "      max_tokens=2048,\n",
    "      top_p=1,\n",
    "      frequency_penalty=0,\n",
    "      presence_penalty=0,\n",
    "      response_format={\n",
    "        \"type\": \"text\"\n",
    "      }\n",
    "    )\n",
    "    return response.choices[0].message.content"
   ]
  },
  {
   "cell_type": "code",
   "execution_count": 2,
   "id": "292999a5",
   "metadata": {},
   "outputs": [],
   "source": [
    "def construct_prompt(gold_concepts: dict, generated_concepts_str: str) -> str:\n",
    "    '''Construct a prompt asking if each gold concept is present in the generated concepts (to eval recall)'''\n",
    "    gold_concept_str = ''\n",
    "    for n, concept in gold_concepts.items():\n",
    "        gold_concept_str += f\"{n}. {concept}\\n\"\n",
    "      \n",
    "    prompt = f\"\"\"First, I will give you a list of main concepts. Then, I will give you a numbered list of candidate concepts. For each candidate concept, indicate whether it is supported by the list of main concepts. If it is supported, provide the span of text from the main concepts that support your answer; otherwise, provide an explanation of why it is not supported. Based on your explanation, predict “yes” or “no” for each candidate concept. Output your response by numbering the candidate concepts in the order they are presented.\n",
    "Provide output in the following format exactly:\n",
    "[\n",
    "{{\"MC\": 1, \"span\": \"explanation\", \"is_supported\": \"yes\" or \"no\"}},\n",
    "{{\"MC\": 2, \"span\": \"explanation\", \"is_supported\": \"yes\" or \"no\"}},\n",
    "...\n",
    "]\n",
    "\n",
    "Main Concepts:\n",
    "{generated_concepts_str}\n",
    "\n",
    "Candidate Concepts:\n",
    "{gold_concept_str}\n",
    "\n",
    "Only provide the output in the specified format and nothing else (e.g., introductory texts, explanations, or reasons).\n",
    "\"\"\"\n",
    "    return prompt\n",
    "\n",
    "def parse_llm_eval(response: str, gold_concepts: dict) -> dict:\n",
    "    \n",
    "    cleaned_resp = response.strip('```json').strip('```').strip()\n",
    "    parsed_resp = json.loads(cleaned_resp)\n",
    "\n",
    "    gold_concepts_coverage = {\n",
    "        item[\"MC\"]: 1 if item[\"is_supported\"] == \"yes\" else 0\n",
    "        for item in parsed_resp\n",
    "    }\n",
    "    \n",
    "    assert len(gold_concepts_coverage) == len(gold_concepts), f\"Response does not cover all gold concepts: {gold_concepts_coverage}\"\n",
    "    return gold_concepts_coverage"
   ]
  },
  {
   "cell_type": "code",
   "execution_count": 3,
   "id": "8ceae416",
   "metadata": {},
   "outputs": [],
   "source": [
    "def get_yield(sentences):\n",
    "    num_toks = 0\n",
    "    for s in sentences:\n",
    "        num_toks+=len(s.split())\n",
    "    return num_toks"
   ]
  },
  {
   "cell_type": "code",
   "execution_count": 4,
   "id": "a32dc22d",
   "metadata": {},
   "outputs": [],
   "source": [
    "def get_main_concepts(stimuli_name: str) -> dict:\n",
    "    with open('../data/BATS/goldMCs/' + stimuli_name + '.json', 'r') as f:\n",
    "        concepts = json.load(f)\n",
    "    return concepts"
   ]
  },
  {
   "cell_type": "code",
   "execution_count": 5,
   "id": "8389e52f",
   "metadata": {},
   "outputs": [],
   "source": [
    "vs_stimuli = ['MarcusYam', 'SylviaEarle', 'NaomiDeLaRosa', 'RobinSteinberg']\n",
    "sd_stimuli = ['AuntMother', 'Ferguson', 'Sept11', 'NoHandbook']\n",
    "list_of_stimuli = sd_stimuli+vs_stimuli\n",
    "\n",
    "stimuli2nummc = {'AuntMother':7,\\\n",
    "                 'Ferguson':10,\\\n",
    "                 'Sept11':12,\\\n",
    "                 'NoHandbook':11,\\\n",
    "                 'MarcusYam':11,\\\n",
    "                 'SylviaEarle':8,\\\n",
    "                 'NaomiDeLaRosa':8,\\\n",
    "                 'RobinSteinberg':7}"
   ]
  },
  {
   "cell_type": "markdown",
   "id": "70b9aca2",
   "metadata": {},
   "source": [
    "### evaluate with clustering"
   ]
  },
  {
   "cell_type": "code",
   "execution_count": null,
   "id": "cc9b3231",
   "metadata": {},
   "outputs": [],
   "source": [
    "import pickle \n",
    "with open('../MCGenerator/clustering_results/bats/deduplicated_mcs_clustering_run2.pickle', 'rb') as f:\n",
    "    mcs_per_stimuli = pickle.load(f)\n",
    "    \n",
    "    \n",
    "results = {}\n",
    "for stimuli in tqdm(list_of_stimuli):\n",
    "    gold_concepts = get_main_concepts(stimuli)\n",
    "    mcs_per_delta = mcs_per_stimuli[stimuli]\n",
    "    \n",
    "    results[stimuli] = {}\n",
    "    for delta in mcs_per_delta:\n",
    "        mc_representatives = mcs_per_delta[delta]['closest_examples']\n",
    "\n",
    "        eval_prompt = construct_prompt(gold_concepts, \"\\n\".join(mc_representatives))\n",
    "        response = get_response(eval_prompt)\n",
    "\n",
    "        gold_coverage = parse_llm_eval(response, gold_concepts)\n",
    "        recall = sum(gold_coverage.values()) / len(gold_coverage)\n",
    "\n",
    "        results[stimuli][delta] = {'recall':recall,\\\n",
    "                                   'gold_coverage': gold_coverage,\\\n",
    "                                   'mc_representatives': mc_representatives,\\\n",
    "                                   'eval_prompt': eval_prompt,\\\n",
    "                                   'gold_concepts': gold_concepts,\\\n",
    "                                   'response': response,\\\n",
    "                                   'yield_num_toks':get_yield(mc_representatives),\\\n",
    "                                   'yield_num_mcs':len(mc_representatives),\\\n",
    "                                  }"
   ]
  },
  {
   "cell_type": "code",
   "execution_count": 9,
   "id": "d7fdbf09",
   "metadata": {},
   "outputs": [],
   "source": [
    "import pickle \n",
    "# with open('../MCGenerator/clustering_results/results/results_clustering_run2_evaluator_run1.pickle', 'wb') as f:\n",
    "#     pickle.dump(results, f)\n",
    "\n",
    "with open('../MCGenerator/clustering_results/bats/results_clustering_run2_evaluator_run1.pickle', 'rb') as f:\n",
    "    results = pickle.load(f)"
   ]
  },
  {
   "cell_type": "markdown",
   "id": "ee3e1657",
   "metadata": {},
   "source": [
    "### evaluate union (with decomp)"
   ]
  },
  {
   "cell_type": "code",
   "execution_count": 12,
   "id": "ca9b07fc",
   "metadata": {},
   "outputs": [],
   "source": [
    "def load_jsonl(path):\n",
    "    data=[]\n",
    "    with open(path, 'r', encoding='utf-8') as reader:\n",
    "        for line in reader:\n",
    "            data.append(json.loads(line))\n",
    "    return data"
   ]
  },
  {
   "cell_type": "code",
   "execution_count": 16,
   "id": "d9a74caf",
   "metadata": {},
   "outputs": [],
   "source": [
    "generated_concepts_dir = '../MCGenerator/Responses/zero_shot/llama3/original_narrative_input/monte-carlo-same-temp/'\n",
    "\n",
    "stimuli2mcs = {}\n",
    "for prompt_name in os.listdir(generated_concepts_dir):\n",
    "    if '.ipynb_checkpoints' in prompt_name: continue\n",
    "    data = load_jsonl(generated_concepts_dir+'/'+prompt_name.split('/')[-1])\n",
    "    for r in data:\n",
    "        if r['Stimuli'] not in stimuli2mcs:\n",
    "            stimuli2mcs[r['Stimuli']] = r['decomposed_mcs']\n",
    "        else:\n",
    "            stimuli2mcs[r['Stimuli']].extend(r['decomposed_mcs'])"
   ]
  },
  {
   "cell_type": "code",
   "execution_count": 36,
   "id": "d1140d20",
   "metadata": {},
   "outputs": [],
   "source": [
    "results = {}\n",
    "for stimuli in tqdm(list_of_stimuli):\n",
    "    gold_concepts = get_main_concepts(stimuli)\n",
    "    mcs = stimuli2mcs[stimuli] #all mcs for this stimuli\n",
    "    \n",
    "    eval_prompt = construct_prompt(gold_concepts, \"\\n\".join(mcs))\n",
    "    response = get_response(eval_prompt)\n",
    "    gold_coverage = parse_llm_eval(response, gold_concepts)\n",
    "    recall = sum(gold_coverage.values()) / len(gold_coverage)\n",
    "    \n",
    "    results[stimuli] = {'recall':recall,\\\n",
    "                       'gold_coverage': gold_coverage,\\\n",
    "                       'eval_prompt': eval_prompt,\\\n",
    "                       'gold_concepts': gold_concepts,\\\n",
    "                       'response': response,\\\n",
    "                       'yield_num_toks':get_yield(mcs),\\\n",
    "                       'yield_num_mcs':len(mcs),\\\n",
    "                      }"
   ]
  },
  {
   "cell_type": "code",
   "execution_count": 54,
   "id": "94d05c65",
   "metadata": {},
   "outputs": [
    {
     "name": "stderr",
     "output_type": "stream",
     "text": [
      "100%|█████████████████████████████████████████████████████████████████████████████| 8/8 [00:00<00:00, 67513.95it/s]\n"
     ]
    },
    {
     "data": {
      "text/plain": [
       "(0.8877299783549784, 3109.125, 345.125)"
      ]
     },
     "execution_count": 54,
     "metadata": {},
     "output_type": "execute_result"
    }
   ],
   "source": [
    "import pickle \n",
    "\n",
    "# with open('../MCGenerator/clustering_results/bats/results_without_clustering_with_decomposition.pickle', 'wb') as f:\n",
    "#     pickle.dump(results, f)\n",
    "\n",
    "with open('../MCGenerator/clustering_results/bats/results_without_clustering_with_decomposition.pickle', 'rb') as f:\n",
    "    results = pickle.load(f)\n",
    "    \n",
    "recall_without_clustering = []  \n",
    "yield_num_toks_without_clustering = []\n",
    "yield_num_mcs_without_clustering = []\n",
    "for stimuli in tqdm(list_of_stimuli):\n",
    "    recall_without_clustering.append(results[stimuli]['recall'])\n",
    "    yield_num_toks_without_clustering.append(results[stimuli]['yield_num_toks'])\n",
    "    yield_num_mcs_without_clustering.append(results[stimuli]['yield_num_mcs'])\n",
    "    \n",
    "np.mean(recall_without_clustering), np.mean(yield_num_toks_without_clustering), np.mean(yield_num_mcs_without_clustering)"
   ]
  },
  {
   "cell_type": "markdown",
   "id": "d41f698a",
   "metadata": {},
   "source": [
    "### evaluate union (w/o decomp)"
   ]
  },
  {
   "cell_type": "code",
   "execution_count": null,
   "id": "1e768d83",
   "metadata": {},
   "outputs": [],
   "source": [
    "generated_concepts_dir = '../MCGenerator/Responses/zero_shot/llama3/original_narrative_input/monte-carlo-same-temp/'\n",
    "\n",
    "stimuli2mcs_without_decomp = {}\n",
    "for prompt_name in os.listdir(generated_concepts_dir):\n",
    "    if '.ipynb_checkpoints' in prompt_name: continue\n",
    "    data = load_jsonl(generated_concepts_dir+'/'+prompt_name.split('/')[-1])\n",
    "    for r in data:\n",
    "        if r['Stimuli'] not in stimuli2mcs_without_decomp:\n",
    "            stimuli2mcs_without_decomp[r['Stimuli']] = [r['response']]\n",
    "        else:\n",
    "            stimuli2mcs_without_decomp[r['Stimuli']].extend([r['response']])\n",
    "\n",
    "results = {}\n",
    "for stimuli in tqdm(list_of_stimuli):\n",
    "    gold_concepts = get_main_concepts(stimuli)\n",
    "    mcs = stimuli2mcs_without_decomp[stimuli] #all mcs for this stimuli\n",
    "    \n",
    "    eval_prompt = construct_prompt(gold_concepts, \"\\n\".join(mcs))\n",
    "    response = get_response(eval_prompt)\n",
    "    gold_coverage = parse_llm_eval(response, gold_concepts)\n",
    "    recall = sum(gold_coverage.values()) / len(gold_coverage)\n",
    "    \n",
    "    results[stimuli] = {'recall':recall,\\\n",
    "                       'gold_coverage': gold_coverage,\\\n",
    "                       'eval_prompt': eval_prompt,\\\n",
    "                       'gold_concepts': gold_concepts,\\\n",
    "                       'response': response,\\\n",
    "                       'yield_num_toks':get_yield(mcs),\\\n",
    "                       'yield_num_mcs':len(mcs),\\\n",
    "                      }"
   ]
  },
  {
   "cell_type": "code",
   "execution_count": null,
   "id": "afdc7119",
   "metadata": {},
   "outputs": [],
   "source": [
    "import pickle \n",
    "\n",
    "# with open('../MCGenerator/clustering_results/bats/results_without_clustering_without_decomposition.pickle', 'wb') as f:\n",
    "#     pickle.dump(results, f)"
   ]
  },
  {
   "cell_type": "code",
   "execution_count": 53,
   "id": "e29084f8",
   "metadata": {},
   "outputs": [
    {
     "name": "stderr",
     "output_type": "stream",
     "text": [
      "100%|█████████████████████████████████████████████████████████████████████████████| 8/8 [00:00<00:00, 88069.38it/s]\n"
     ]
    },
    {
     "data": {
      "text/plain": [
       "(0.9229572510822511, 2933.625, 15.0)"
      ]
     },
     "execution_count": 53,
     "metadata": {},
     "output_type": "execute_result"
    }
   ],
   "source": [
    "with open('../MCGenerator/clustering_results/bats/results_without_clustering_without_decomposition.pickle', 'rb') as f:\n",
    "    results = pickle.load(f)\n",
    "    \n",
    "recall_without_clustering = []  \n",
    "yield_num_toks_without_clustering = []\n",
    "yield_num_mcs_without_clustering = []\n",
    "for stimuli in tqdm(list_of_stimuli):\n",
    "    recall_without_clustering.append(results[stimuli]['recall'])\n",
    "    yield_num_toks_without_clustering.append(results[stimuli]['yield_num_toks'])\n",
    "    yield_num_mcs_without_clustering.append(results[stimuli]['yield_num_mcs'])\n",
    "    \n",
    "np.mean(recall_without_clustering), np.mean(yield_num_toks_without_clustering), np.mean(yield_num_mcs_without_clustering)"
   ]
  },
  {
   "cell_type": "markdown",
   "id": "d23562a0",
   "metadata": {},
   "source": [
    "### evaluate individual prompts (with decomp)"
   ]
  },
  {
   "cell_type": "code",
   "execution_count": 24,
   "id": "9be7af43",
   "metadata": {},
   "outputs": [],
   "source": [
    "prompt_filenames = os.listdir('../MCGenerator/Prompts/zero_shot/')\n",
    "prompt_filenames = [p.split('.')[0] for p in prompt_filenames if '.txt' in p]\n",
    "#prompt_filenames"
   ]
  },
  {
   "cell_type": "code",
   "execution_count": 23,
   "id": "7dcf418d",
   "metadata": {},
   "outputs": [],
   "source": [
    "generated_concepts_dir = '../MCGenerator/Responses/zero_shot/llama3/original_narrative_input/monte-carlo-same-temp/'\n",
    "file_names = os.listdir(generated_concepts_dir)\n",
    "for f_name in file_names:\n",
    "    if '.ipynb_checkpoints' in f_name:\n",
    "        continue\n",
    "    d = load_jsonl(generated_concepts_dir+f_name)\n",
    "    #print(f_name, len(d))"
   ]
  },
  {
   "cell_type": "code",
   "execution_count": 28,
   "id": "97a5dd12",
   "metadata": {},
   "outputs": [],
   "source": [
    "generated_concepts_dir = '../MCGenerator/Responses/zero_shot/llama3/original_narrative_input/monte-carlo-same-temp/'\n",
    "eval_response_save_dir = './Responses/zero_shot/gpt4o/original_narrative_input/monte-carlo-same-temp-decomposed-mcs/'\n",
    "file_names = os.listdir(generated_concepts_dir)\n",
    "\n",
    "for f_name in file_names:\n",
    "    if '.jsonl' not in f_name: continue\n",
    "    generated_concepts = load_jsonl(generated_concepts_dir+f_name)\n",
    "    save_data = []\n",
    "    for r in tqdm(generated_concepts):\n",
    "        stimuli = r['Stimuli']\n",
    "        gold_concepts = get_main_concepts(stimuli)\n",
    "        \n",
    "        #generated_concept_str = r['response'] # uncomment to evluate generated MCs w/o decomposition\n",
    "        \n",
    "        generated_concept_str =  \"\\n\".join(r['decomposed_mcs'])\n",
    "        eval_prompt = construct_prompt(gold_concepts, generated_concept_str)\n",
    "        response = get_response(eval_prompt)\n",
    "        gold_coverage = parse_llm_eval(response, gold_concepts)\n",
    "        recall = sum(gold_coverage.values()) / len(gold_coverage)\n",
    "        yield_ = get_yield_num_toks(generated_concept_str)\n",
    "\n",
    "        info = {'stimuli': stimuli,\n",
    "                'mc_prompt_name': f_name, \n",
    "                'eval_prompt': eval_prompt,\n",
    "                'raw_eval_completion': response,\n",
    "                'gold_coverage': gold_coverage,\n",
    "                'recall': recall,\n",
    "                'yield_num_toks': yield_\n",
    "                }\n",
    "        save_data.append(info)\n",
    "\n",
    "    save_jsonl(eval_response_save_dir+f_name, save_data)"
   ]
  },
  {
   "cell_type": "code",
   "execution_count": 31,
   "id": "3559938b",
   "metadata": {},
   "outputs": [
    {
     "name": "stdout",
     "output_type": "stream",
     "text": [
      "five_finger_according_temp_0.67_3.jsonl 0.6470373376623377 732.125\n",
      "five_finger_according_temp_0.67_2.jsonl 0.6852408008658009 782.0\n",
      "help_me_understand_temp_0.67_4.jsonl 0.5742559523809524 1436.125\n",
      "five_finger_according_temp_0.67_1.jsonl 0.7159361471861472 757.875\n",
      "five_finger_according_temp_0.67_0.jsonl 0.6937635281385282 798.75\n",
      "7_unit_story_grammar_temp_0.67_4.jsonl 0.592870670995671 923.375\n",
      "7_unit_story_grammar_temp_0.67_3.jsonl 0.5584415584415585 992.75\n",
      "help_me_understand_temp_0.67_2.jsonl 0.7068046536796536 1424.25\n",
      "7_unit_story_grammar_temp_0.67_2.jsonl 0.5876082251082251 1029.5\n",
      "help_me_understand_temp_0.67_3.jsonl 0.6701975108225108 1464.125\n",
      "7_unit_story_grammar_temp_0.67_1.jsonl 0.5908820346320347 1049.0\n",
      "help_me_understand_temp_0.67_0.jsonl 0.6651785714285714 1446.25\n",
      "five_finger_according_temp_0.67_4.jsonl 0.6730790043290044 701.75\n",
      "7_unit_story_grammar_temp_0.67_0.jsonl 0.5969832251082251 1033.25\n",
      "help_me_understand_temp_0.67_1.jsonl 0.7077516233766235 1469.0\n"
     ]
    }
   ],
   "source": [
    "for f_name in os.listdir(eval_response_save_dir):\n",
    "    data = load_jsonl(eval_response_save_dir+f_name)\n",
    "    mean_recall = np.mean([r['recall'] for r in data if r['recall']==r['recall']])\n",
    "    mean_yield = np.mean([r['yield_num_toks'] for r in data])\n",
    "    print(f_name, mean_recall, mean_yield)"
   ]
  },
  {
   "cell_type": "markdown",
   "id": "5d470324",
   "metadata": {},
   "source": [
    "### evaluate individual prompts (without decomp)"
   ]
  },
  {
   "cell_type": "code",
   "execution_count": 32,
   "id": "97b2891d",
   "metadata": {},
   "outputs": [],
   "source": [
    "generated_concepts_dir = '../MCGenerator/Responses/zero_shot/llama3/original_narrative_input/monte-carlo-same-temp/'\n",
    "eval_response_save_dir = './Responses/zero_shot/gpt4o/original_narrative_input/monte-carlo-same-temp-without-decomposed-mcs/'\n",
    "file_names = os.listdir(generated_concepts_dir)\n",
    "\n",
    "for f_name in file_names:\n",
    "    if '.jsonl' not in f_name: continue\n",
    "    generated_concepts = load_jsonl(generated_concepts_dir+f_name)\n",
    "    save_data = []\n",
    "    for r in tqdm(generated_concepts):\n",
    "        stimuli = r['Stimuli']\n",
    "        gold_concepts = get_main_concepts(stimuli)\n",
    "        \n",
    "        generated_concept_str = r['response'] \n",
    "        \n",
    "        #generated_concept_str =  \"\\n\".join(r['decomposed_mcs']) \n",
    "        eval_prompt = construct_prompt(gold_concepts, generated_concept_str)\n",
    "        response = get_response(eval_prompt)\n",
    "        gold_coverage = parse_llm_eval(response, gold_concepts)\n",
    "        recall = sum(gold_coverage.values()) / len(gold_coverage)\n",
    "        yield_ = get_yield_num_toks(generated_concept_str)\n",
    "\n",
    "        info = {'stimuli': stimuli,\n",
    "                'mc_prompt_name': f_name, \n",
    "                'eval_prompt': eval_prompt,\n",
    "                'raw_eval_completion': response,\n",
    "                'gold_coverage': gold_coverage,\n",
    "                'recall': recall,\n",
    "                'yield_num_toks': yield_\n",
    "                }\n",
    "        save_data.append(info)\n",
    "\n",
    "    save_jsonl(eval_response_save_dir+f_name, save_data)"
   ]
  },
  {
   "cell_type": "code",
   "execution_count": 33,
   "id": "f8908a95",
   "metadata": {},
   "outputs": [
    {
     "name": "stdout",
     "output_type": "stream",
     "text": [
      "7_unit_story_grammar_temp_0.67_0.jsonl 0.6315611471861473 1076.375\n",
      "five_finger_according_temp_0.67_1.jsonl 0.7066558441558441 741.5\n",
      "7_unit_story_grammar_temp_0.67_1.jsonl 0.6230790043290043 1067.875\n",
      "five_finger_according_temp_0.67_0.jsonl 0.7492288961038961 771.375\n",
      "7_unit_story_grammar_temp_0.67_2.jsonl 0.6103354978354978 1065.375\n",
      "five_finger_according_temp_0.67_3.jsonl 0.6905979437229437 699.75\n",
      "help_me_understand_temp_0.67_4.jsonl 0.6033279220779221 1252.125\n",
      "7_unit_story_grammar_temp_0.67_3.jsonl 0.6218885281385281 1042.625\n",
      "five_finger_according_temp_0.67_2.jsonl 0.6530438311688311 763.5\n",
      "help_me_understand_temp_0.67_3.jsonl 0.6951569264069264 1287.5\n",
      "7_unit_story_grammar_temp_0.67_4.jsonl 0.6282873376623377 1001.375\n",
      "help_me_understand_temp_0.67_2.jsonl 0.6960497835497836 1329.625\n",
      "five_finger_according_temp_0.67_4.jsonl 0.674025974025974 680.75\n",
      "help_me_understand_temp_0.67_1.jsonl 0.6521509740259741 1344.5\n",
      "help_me_understand_temp_0.67_0.jsonl 0.6992694805194806 1265.75\n"
     ]
    }
   ],
   "source": [
    "for f_name in os.listdir(eval_response_save_dir):\n",
    "    data = load_jsonl(eval_response_save_dir+f_name)\n",
    "    mean_recall = np.mean([r['recall'] for r in data if r['recall']==r['recall']])\n",
    "    mean_yield = np.mean([r['yield_num_toks'] for r in data])\n",
    "    print(f_name, mean_recall, mean_yield)"
   ]
  },
  {
   "cell_type": "markdown",
   "id": "cbee0348",
   "metadata": {},
   "source": [
    "### plot recall-yield trade off "
   ]
  },
  {
   "cell_type": "code",
   "execution_count": 37,
   "id": "ec31e4c1",
   "metadata": {},
   "outputs": [],
   "source": [
    "bounds = {'theoretical union w/ decomp': {'recall': 0.9521780303030303, 'yield_num_toks': 2974.25},\\\n",
    " 'theoretical union w/o decomp': {'recall': 0.9408143939393939, 'yield_num_toks': 2758.25},\\\n",
    " 'empirical union w/ decomp': {'recall': 0.8877299783549784, 'yield_num_toks': 3109.125, 'yield_num_mcs': 345.125},\\\n",
    " 'empirical union w/o decomp': {'recall': 0.9229572510822511, 'yield_num_toks': 2933.625},\\\n",
    "}"
   ]
  },
  {
   "cell_type": "code",
   "execution_count": 39,
   "id": "e8f1081c",
   "metadata": {},
   "outputs": [],
   "source": [
    "import pandas as pd\n",
    "def get_recall_df(prompt_filenames):\n",
    "    recall_dict_decomposed = {}\n",
    "    for prompt_name in prompt_filenames:\n",
    "        data = load_jsonl(eval_response_save_dir+'/'+prompt_name.split('/')[-1])\n",
    "        yield_dict = {}\n",
    "        for r in data:\n",
    "            yield_dict[r['stimuli']] = r['recall']\n",
    "\n",
    "        recall_dict_decomposed[prompt_name.split('/')[-1]] = yield_dict\n",
    "\n",
    "    recall_dict_decomposed = pd.DataFrame(recall_dict_decomposed)\n",
    "    return recall_dict_decomposed\n",
    "\n",
    "def get_yield_df(prompt_filenames):\n",
    "    yield_dict_decomposed = {}\n",
    "    for prompt_name in prompt_filenames:\n",
    "        data = load_jsonl(eval_response_save_dir+'/'+prompt_name.split('/')[-1])\n",
    "        yield_dict = {}\n",
    "        for r in data:\n",
    "            yield_dict[r['stimuli']] = r['yield_num_toks']\n",
    "\n",
    "        yield_dict_decomposed[prompt_name.split('/')[-1]] = yield_dict\n",
    "\n",
    "    yield_dict_decomposed = pd.DataFrame(yield_dict_decomposed)\n",
    "    return yield_dict_decomposed"
   ]
  },
  {
   "cell_type": "code",
   "execution_count": 40,
   "id": "1d1b3e64",
   "metadata": {},
   "outputs": [],
   "source": [
    "eval_response_save_dir = '../MCEvaluator/Responses/zero_shot/gpt4o/original_narrative_input/monte-carlo-same-temp-decomposed-mcs/'\n",
    "\n",
    "prompt_filenames = [eval_response_save_dir+f for f in os.listdir(eval_response_save_dir)]\n",
    " \n",
    "recall_dict_decomposed = get_recall_df([p for p in prompt_filenames if 'five' in p])\n",
    "yield_dict_decomposed = get_yield_df([p for p in prompt_filenames if 'five' in p])\n",
    "bounds['five finger w/ decomp'] = {'recall': recall_dict_decomposed.mean(axis=0).mean(),\\\n",
    "                                   'yield_num_toks': yield_dict_decomposed.mean(axis=0).mean()}\n",
    "\n",
    "del recall_dict_decomposed\n",
    "del yield_dict_decomposed\n",
    "\n",
    "\n",
    "recall_dict_decomposed = get_recall_df([p for p in prompt_filenames if 'unit' in p])\n",
    "yield_dict_decomposed = get_yield_df([p for p in prompt_filenames if 'unit' in p])\n",
    "bounds['7 unit story grammar w/ decomp'] = {'recall': recall_dict_decomposed.mean(axis=0).mean(),\\\n",
    "                                           'yield_num_toks': yield_dict_decomposed.mean(axis=0).mean()}\n",
    "\n",
    "del recall_dict_decomposed\n",
    "del yield_dict_decomposed\n",
    "\n",
    "recall_dict_decomposed = get_recall_df([p for p in prompt_filenames if 'help' in p])\n",
    "yield_dict_decomposed = get_yield_df([p for p in prompt_filenames if 'help' in p])\n",
    "bounds['help me understand w/ decomp'] = {'recall': recall_dict_decomposed.mean(axis=0).mean(),\\\n",
    "                                         'yield_num_toks': yield_dict_decomposed.mean(axis=0).mean()}\n",
    "\n",
    "del recall_dict_decomposed\n",
    "del yield_dict_decomposed"
   ]
  },
  {
   "cell_type": "code",
   "execution_count": 41,
   "id": "d026d5c9",
   "metadata": {},
   "outputs": [],
   "source": [
    "eval_response_save_dir = '../MCEvaluator/Responses/zero_shot/gpt4o/original_narrative_input/monte-carlo-same-temp-without-decomposed-mcs/'\n",
    "\n",
    "prompt_filenames = [eval_response_save_dir+f for f in os.listdir(eval_response_save_dir)]\n",
    " \n",
    "recall_dict_decomposed = get_recall_df([p for p in prompt_filenames if 'five' in p])\n",
    "yield_dict_decomposed = get_yield_df([p for p in prompt_filenames if 'five' in p])\n",
    "bounds['five finger w/o decomp'] = {'recall': recall_dict_decomposed.mean(axis=0).mean(),\\\n",
    "                                   'yield_num_toks': yield_dict_decomposed.mean(axis=0).mean()}\n",
    "\n",
    "del recall_dict_decomposed\n",
    "del yield_dict_decomposed\n",
    "\n",
    "\n",
    "recall_dict_decomposed = get_recall_df([p for p in prompt_filenames if 'unit' in p])\n",
    "yield_dict_decomposed = get_yield_df([p for p in prompt_filenames if 'unit' in p])\n",
    "bounds['7 unit story grammar w/o decomp'] = {'recall': recall_dict_decomposed.mean(axis=0).mean(),\\\n",
    "                                           'yield_num_toks': yield_dict_decomposed.mean(axis=0).mean()}\n",
    "\n",
    "del recall_dict_decomposed\n",
    "del yield_dict_decomposed\n",
    "\n",
    "recall_dict_decomposed = get_recall_df([p for p in prompt_filenames if 'help' in p])\n",
    "yield_dict_decomposed = get_yield_df([p for p in prompt_filenames if 'help' in p])\n",
    "bounds['help me understand w/o decomp'] = {'recall': recall_dict_decomposed.mean(axis=0).mean(),\\\n",
    "                                         'yield_num_toks': yield_dict_decomposed.mean(axis=0).mean()}\n",
    "\n",
    "del recall_dict_decomposed\n",
    "del yield_dict_decomposed"
   ]
  },
  {
   "cell_type": "code",
   "execution_count": 46,
   "id": "7799320e",
   "metadata": {},
   "outputs": [],
   "source": [
    "import pickle \n",
    "with open('../MCGenerator/clustering_results/bats/results_clustering_run2_evaluator_run1.pickle', 'rb') as f:\n",
    "    results = pickle.load(f)\n",
    "    \n",
    "from collections import defaultdict\n",
    "deltas = [0, 0.1, 0.2, 0.3, 0.4, 0.5, 0.6, 0.7, 0.8, 0.9, 1, 5, 10, 15, 20]\n",
    "\n",
    "# Initialize accumulators for each delta\n",
    "delta_values = defaultdict(lambda: {'recall': 0, 'yield_num_toks': 0, 'yield_num_mcs': 0, 'count': 0})\n",
    "\n",
    "# Accumulate data across all stimuli for each delta\n",
    "for stimuli in results:\n",
    "    for delta, metrics in results[stimuli].items():\n",
    "        delta_values[delta]['recall'] += metrics['recall']\n",
    "        delta_values[delta]['yield_num_toks'] += metrics['yield_num_toks']\n",
    "        delta_values[delta]['yield_num_mcs'] += metrics['yield_num_mcs']\n",
    "        delta_values[delta]['count'] += 1\n",
    "\n",
    "# Compute the average for each delta\n",
    "averaged_results = {delta: {\n",
    "    'avg_recall': vals['recall'] / vals['count'],\n",
    "    'avg_yield_num_toks': vals['yield_num_toks'] / vals['count'],\n",
    "    'avg_yield_num_mcs': vals['yield_num_mcs'] / vals['count'],\n",
    "} for delta, vals in delta_values.items()}\n",
    "\n",
    "# Sort deltas to ensure proper plotting order\n",
    "sorted_deltas = sorted(averaged_results.keys())\n",
    "avg_recall = [averaged_results[delta]['avg_recall'] for delta in sorted_deltas]\n",
    "avg_yield_num_toks = [averaged_results[delta]['avg_yield_num_toks'] for delta in sorted_deltas]\n",
    "avg_yield_num_mcs = [averaged_results[delta]['avg_yield_num_mcs'] for delta in sorted_deltas]"
   ]
  },
  {
   "cell_type": "code",
   "execution_count": 49,
   "id": "3df45f0c",
   "metadata": {},
   "outputs": [],
   "source": [
    "df = pd.DataFrame()\n",
    "df['experiment'] = ['clustering']*len(sorted_deltas)\n",
    "df['delta'] = sorted_deltas\n",
    "# df['avg_yield_num_mcs'] = avg_yield_num_mcs\n",
    "df['avg_yield_num_toks'] = avg_yield_num_toks\n",
    "df['avg_recall'] = avg_recall\n",
    "\n",
    "for b in bounds:\n",
    "    new_row = {'experiment': b,\\\n",
    "              'delta': 'n/a',\\\n",
    "              'avg_yield_num_toks': bounds[b]['yield_num_toks'],\\\n",
    "              'avg_recall': bounds[b]['recall']}\n",
    "    \n",
    "    df = pd.concat([df, pd.DataFrame([new_row])], ignore_index=True)\n",
    "\n",
    "df.to_csv('../MCGenerator/clustering_results/bats/data_for_plots.csv', sep='\\t')"
   ]
  },
  {
   "cell_type": "code",
   "execution_count": 50,
   "id": "a03345ec",
   "metadata": {},
   "outputs": [
    {
     "name": "stderr",
     "output_type": "stream",
     "text": [
      "Looks like you are using a tranform that doesn't support FancyArrowPatch, using ax.annotate instead. The arrows might strike through texts. Increasing shrinkA in arrowprops might help.\n"
     ]
    },
    {
     "data": {
      "image/png": "[encoded data removed]",
      "text/plain": [
       "<Figure size 1152x576 with 1 Axes>"
      ]
     },
     "metadata": {
      "needs_background": "light"
     },
     "output_type": "display_data"
    }
   ],
   "source": [
    "from adjustText import adjust_text\n",
    "import matplotlib.pyplot as plt\n",
    "from matplotlib.lines import Line2D\n",
    "\n",
    "\n",
    "fig, axes = plt.subplots(1, 1, figsize=(16, 8))\n",
    "axes.scatter(avg_recall[:-3], avg_yield_num_toks[:-3], color='tab:red', s=100, marker='o', label='Main Data')\n",
    "\n",
    "\n",
    "annotations = []\n",
    "for label, data in bounds.items():\n",
    "    if 'theoretical' in label:\n",
    "        continue\n",
    "    recall = data['recall']\n",
    "    yield_toks = data['yield_num_toks']\n",
    "    \n",
    "    if 'theoretical' in label:\n",
    "        color = 'tab:blue'\n",
    "    elif 'empirical' in label:\n",
    "        color = 'tab:green'\n",
    "    elif 'help' in label:\n",
    "        color = 'tab:orange'  \n",
    "    elif 'five' in label:\n",
    "        color = 'tab:purple'  \n",
    "    elif 'unit' in label:\n",
    "        color = 'tab:pink'  \n",
    "    else:\n",
    "        color = 'tab:gray' \n",
    "        \n",
    "    if 'w/o' in label:\n",
    "        marker = 's'\n",
    "    elif 'w/ ' in label:\n",
    "        marker = '^'\n",
    "    else:\n",
    "        marker = 'x'\n",
    "\n",
    "    # Plot the additional point\n",
    "    axes.scatter(recall, yield_toks, color=color, s=100, marker=marker, alpha=0.6)\n",
    "\n",
    "    if label=='empirical union w/ decomp':\n",
    "        label = 'naive union w/ decomp'\n",
    "    if label=='empirical union w/o decomp':\n",
    "        label = 'naive union w/o decomp'\n",
    "        \n",
    "    # Add text annotation with the label and recall/yield values\n",
    "    annotation_text = (\n",
    "        f\"{label.split(' w/')[0]}\\n\"\n",
    "        f\"r={recall:.2f}, y={yield_toks:.1f}\"\n",
    "    )\n",
    "    \n",
    "    \n",
    "    annotations.append(axes.text(recall, yield_toks, annotation_text, fontsize=11, ha='right'))\n",
    "\n",
    "\n",
    "for i, delta in enumerate(deltas[:-3]):\n",
    "    if delta==5:\n",
    "        delta = 4\n",
    "    annotation_text = f'$\\delta$={delta}\\nr={avg_recall[i]:.2f}\\ny={avg_yield_num_toks[i]:.1f}'\n",
    "    annotations.append(axes.text(avg_recall[i], avg_yield_num_toks[i], annotation_text, \n",
    "                                 ha='center', va='center', fontsize=12))\n",
    "\n",
    "\n",
    "def annotate_points(annotations, ax):\n",
    "    for annotation in annotations:\n",
    "        annotation.set_fontsize(10)\n",
    "        annotation.set_ha('right')\n",
    "        annotation.set_va('bottom')\n",
    "\n",
    "# Then, before adjust_text\n",
    "annotate_points(annotations, axes)\n",
    "\n",
    "adjust_text(annotations, \n",
    "            ax=axes, \n",
    "            arrowprops=dict(arrowstyle='->', color='gray', lw=0.5),\n",
    "            expand_points=(1.2, 1.2),  # Slight expansion to prevent overlap\n",
    "            force_points=(0.1, 0.25)   # Adjust text movement force\n",
    ")\n",
    "\n",
    "# Set axis labels and title\n",
    "axes.set_xlabel('Recall', fontsize=20)\n",
    "axes.set_xticks(ticks = np.arange(0.4, 1.1, 0.1), fontsize=20)\n",
    "axes.set_ylabel('Yield (#Words)', fontsize=20)\n",
    "# axes.set_title('Recall vs Yield (#Tokens)')\n",
    "axes.grid(True)\n",
    "\n",
    "\n",
    "axes.margins(y=0.5)  \n",
    "axes.set_ylim(bottom=-200) \n",
    "\n",
    "plt.subplots_adjust(bottom=0.8) \n",
    "\n",
    "legend_elements = [\n",
    "    Line2D([0], [0], marker='^', color='w', markerfacecolor='black', markersize=10, label='with decomposition'),\n",
    "    Line2D([0], [0], marker='s', color='w', markerfacecolor='black', markersize=10, label='without decomposition'),\n",
    "    Line2D([0], [0], marker='o', color='w', markerfacecolor='tab:red', markersize=10, label='clustering (with decomposition)')\n",
    "]\n",
    "\n",
    "\n",
    "axes.legend(handles=legend_elements, loc='best')\n",
    "\n",
    "\n",
    "plt.tight_layout(rect=[0, 0.05, 1, 1])  # Avoid overriding bottom margin\n",
    "\n",
    "# plt.savefig('./clustering_results/plots/cac_2025.png')"
   ]
  },
  {
   "cell_type": "code",
   "execution_count": null,
   "id": "1e3cf709",
   "metadata": {},
   "outputs": [],
   "source": []
  }
 ],
 "metadata": {
  "kernelspec": {
   "display_name": "Python 3 (ipykernel)",
   "language": "python",
   "name": "python3"
  },
  "language_info": {
   "codemirror_mode": {
    "name": "ipython",
    "version": 3
   },
   "file_extension": ".py",
   "mimetype": "text/x-python",
   "name": "python",
   "nbconvert_exporter": "python",
   "pygments_lexer": "ipython3",
   "version": "3.9.0"
  }
 },
 "nbformat": 4,
 "nbformat_minor": 5
}
